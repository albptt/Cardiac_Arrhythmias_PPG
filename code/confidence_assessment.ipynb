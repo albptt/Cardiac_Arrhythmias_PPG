{
  "cells": [
    {
      "cell_type": "markdown",
      "metadata": {
        "id": "zV06WGRYETjM"
      },
      "source": [
        "# Confidence Assessment"
      ]
    },
    {
      "cell_type": "markdown",
      "metadata": {},
      "source": [
        "# DL models\n",
        "\n",
        "For DL models the confidence for each prediction can be assessed by taking the output of the Softmax function for the predicted class.\n",
        "\n",
        "In the case of the autoencoder and the siamese network a different approach has been proposed."
      ]
    },
    {
      "cell_type": "markdown",
      "metadata": {},
      "source": [
        "# Siamese Network"
      ]
    },
    {
      "cell_type": "code",
      "execution_count": null,
      "metadata": {},
      "outputs": [],
      "source": [
        "import numpy as np\n",
        "\n",
        "def confidence_siamese(model, template_N, template_S, template_V, test_beat):\n",
        "    dist_N = model.predict([template_N, test_beat])\n",
        "    dist_S = model.predict([template_S, test_beat])\n",
        "    dist_V = model.predict([template_V, test_beat])\n",
        "    distances = np.concatenate([dist_N, dist_S, dist_V], axis=1)\n",
        "    y_pred = np.argmin(distances, axis=1)\n",
        "\n",
        "    return 1-distances[y_pred]"
      ]
    },
    {
      "cell_type": "markdown",
      "metadata": {},
      "source": [
        "# Autoencoder"
      ]
    },
    {
      "cell_type": "code",
      "execution_count": null,
      "metadata": {},
      "outputs": [],
      "source": [
        "def confidence_autoencoder(original_beat, reconstructed_beat, threshold, max_mae, min_mae):\n",
        "    mae_beat = np.mean(np.abs(original_beat - reconstructed_beat))\n",
        "    conf = abs(mae_beat-threshold)\n",
        "    \n",
        "    if mae_beat >= threshold:\n",
        "        conf_norm = conf/abs(max_mae-threshold)\n",
        "    else:\n",
        "        conf_norm = conf/abs(min_mae-threshold)\n",
        "\n",
        "    return conf_norm"
      ]
    },
    {
      "cell_type": "markdown",
      "metadata": {},
      "source": [
        "# ML models\n",
        "\n",
        "For ML models confidence for each prediction can be assessed by computing the class probabilities for each model via the ```predict_proba``` method by scikit learn (see report for explanation).\n",
        "\n",
        "For the SVM a different approach has been proposed."
      ]
    },
    {
      "cell_type": "code",
      "execution_count": null,
      "metadata": {},
      "outputs": [],
      "source": [
        "def get_confidence_scores(model, X, y):\n",
        "\n",
        "    # Predict probabilities\n",
        "    y_pred_prob = model.predict_proba(X)\n",
        "    # Create a dictionary with predicted probabilities and real labels\n",
        "    confidence_dict = [{'confidence': y_pred_prob[i].tolist(), 'true_class': y[i]} for i in range(len(X))]\n",
        "\n",
        "    return confidence_dict"
      ]
    },
    {
      "cell_type": "code",
      "execution_count": null,
      "metadata": {},
      "outputs": [],
      "source": [
        "# Recover the single beats from the test set\n",
        "# test_beats = []\n",
        "# for patient in X_test:\n",
        "#     for beat in patient.single_beats:\n",
        "#         test_beats.append(beat)\n",
        "# len(test_beats), len(confidence_scores)\n",
        "\n",
        "'''Ensure that for the beats in the test set are available to plot the beat and the confidence for each with the following code.'''"
      ]
    },
    {
      "cell_type": "code",
      "execution_count": null,
      "metadata": {},
      "outputs": [],
      "source": [
        "import random\n",
        "import matplotlib.cm as cm\n",
        "import matplotlib.pyplot as plt\n",
        "import numpy as np\n",
        "\n",
        "def plot_signal_and_confidence(confidence_scores, test_beats, index=None):\n",
        "    # If no index is provided, select a random one\n",
        "    if index is None:\n",
        "        index = random.randint(0, len(test_beats) - 1)\n",
        "\n",
        "    # Create a figure with two subplots: one for the signal and one for the histogram\n",
        "    fig, axs = plt.subplots(1, 2, figsize=(10, 5))\n",
        "    \n",
        "    # Define class labels\n",
        "    class_labels = ['N' if label == 0.0 else 'S' if label == 1.0 else 'V' for label in range(len(confidence_scores[index]['confidence']))]\n",
        "\n",
        "    # Plot the signal\n",
        "    axs[0].plot(test_beats[index])\n",
        "    axs[0].set_title(f'Test set beat {index}: Class {class_labels[confidence_scores[index][\"true_class\"]]}')\n",
        "\n",
        "\n",
        "    # Generate a color map\n",
        "    colors = cm.rainbow(np.linspace(0, 1, len(confidence_scores[index]['confidence'])))\n",
        "\n",
        "    # Plot a horizontal histogram of the confidence\n",
        "    axs[1].barh(class_labels, confidence_scores[index]['confidence'], color=colors)\n",
        "    axs[1].set_title('Prediction Confidence')\n",
        "    axs[1].set_xlabel('Probability')\n",
        "    axs[1].set_ylabel('Class')\n",
        "\n",
        "    # Show the plot\n",
        "    plt.tight_layout()\n",
        "    plt.show()"
      ]
    },
    {
      "cell_type": "markdown",
      "metadata": {},
      "source": [
        "# SVM"
      ]
    },
    {
      "cell_type": "code",
      "execution_count": null,
      "metadata": {},
      "outputs": [],
      "source": [
        "def confidence_svm(model, test_beat, max_dist, min_dist):\n",
        "    dist = model.decision_function(test_beat)\n",
        "    confidence_score = (dist - min_dist) / (max_dist - min_dist)\n",
        "\n",
        "    return confidence_score"
      ]
    }
  ],
  "metadata": {
    "colab": {
      "provenance": []
    },
    "kernelspec": {
      "display_name": "Python 3",
      "name": "python3"
    },
    "language_info": {
      "name": "python"
    }
  },
  "nbformat": 4,
  "nbformat_minor": 0
}
